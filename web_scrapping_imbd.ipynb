{
 "cells": [
  {
   "cell_type": "markdown",
   "id": "b5c9b9fb",
   "metadata": {},
   "source": [
    "Web Scrapping IMBD ratings using BeautifulSoup."
   ]
  },
  {
   "cell_type": "markdown",
   "id": "9c2d4334",
   "metadata": {},
   "source": [
    "# 0. Importat librerias"
   ]
  },
  {
   "cell_type": "code",
   "execution_count": 6,
   "id": "78ceec47",
   "metadata": {},
   "outputs": [],
   "source": [
    "from bs4 import BeautifulSoup\n",
    "import requests\n",
    "import re"
   ]
  },
  {
   "cell_type": "code",
   "execution_count": 10,
   "id": "6e07a3cd",
   "metadata": {},
   "outputs": [],
   "source": [
    "url = 'https://www.imdb.com/search/keyword/?keywords=anime&pf_rd_m=A2FGELUUNOQJNL&pf_rd_p=7846868c-8414-4178-8f43-9ad6b2ef0baf&pf_rd_r=N3K3K9B3138Y21M5JG1N&pf_rd_s=center-1&pf_rd_t=15051&pf_rd_i=moka&ref_=kw_5'\n",
    "response = requests.get(url)\n",
    "soup = BeautifulSoup(response.text)"
   ]
  },
  {
   "cell_type": "code",
   "execution_count": 13,
   "id": "b7668135",
   "metadata": {},
   "outputs": [],
   "source": [
    "url2 = 'http://www.imdb.com/chart/top'\n",
    "response2 = requests.get(url2)\n",
    "soup2 = BeautifulSoup(response2.text)"
   ]
  },
  {
   "cell_type": "markdown",
   "id": "e1179d50",
   "metadata": {},
   "source": [
    "crew = [a.attrs.get('title') for a in soup.select('td.titleColumn a')]"
   ]
  },
  {
   "cell_type": "markdown",
   "id": "914240fb",
   "metadata": {},
   "source": [
    "ratings = [b.attrs.get('data-value') for b in soup.select('td.posterColumn span[name=ir]')]"
   ]
  },
  {
   "cell_type": "code",
   "execution_count": 111,
   "id": "999e8860",
   "metadata": {},
   "outputs": [],
   "source": [
    "movies = soup.select('div.lister-item-content')"
   ]
  },
  {
   "cell_type": "code",
   "execution_count": 112,
   "id": "2dbf799c",
   "metadata": {
    "scrolled": false
   },
   "outputs": [
    {
     "data": {
      "text/plain": [
       "50"
      ]
     },
     "execution_count": 112,
     "metadata": {},
     "output_type": "execute_result"
    }
   ],
   "source": [
    "len(movies)"
   ]
  },
  {
   "cell_type": "code",
   "execution_count": 144,
   "id": "93ea2966",
   "metadata": {
    "scrolled": true
   },
   "outputs": [
    {
     "data": {
      "text/plain": [
       "1"
      ]
     },
     "execution_count": 144,
     "metadata": {},
     "output_type": "execute_result"
    }
   ],
   "source": [
    "len(soup.select('div.lister-list'))"
   ]
  },
  {
   "cell_type": "code",
   "execution_count": 150,
   "id": "c5161f00",
   "metadata": {},
   "outputs": [],
   "source": [
    "items = soup.select('div.lister-item.mode-detail')"
   ]
  },
  {
   "cell_type": "code",
   "execution_count": 152,
   "id": "a9aa2259",
   "metadata": {},
   "outputs": [
    {
     "data": {
      "text/plain": [
       "[<h3 class=\"lister-item-header\">\n",
       " <span class=\"lister-item-index unbold text-primary\">1.</span>\n",
       " <a href=\"/title/tt2560140/\">Shingeki no kyojin</a>\n",
       " <span class=\"lister-item-year text-muted unbold\">(2013–2022)</span>\n",
       " </h3>]"
      ]
     },
     "execution_count": 152,
     "metadata": {},
     "output_type": "execute_result"
    }
   ],
   "source": [
    "items[0].select('h3.lister-item-header')"
   ]
  },
  {
   "cell_type": "code",
   "execution_count": 153,
   "id": "259cc8d3",
   "metadata": {
    "scrolled": true
   },
   "outputs": [
    {
     "data": {
      "text/plain": [
       "[<p class=\"text-muted text-small\">\n",
       " <span class=\"certificate\">15</span>\n",
       " <span class=\"ghost\">|</span>\n",
       " <span class=\"runtime\">24 min</span>\n",
       " <span class=\"ghost\">|</span>\n",
       " <span class=\"genre\">\n",
       " Animation, Action, Adventure            </span>\n",
       " </p>,\n",
       " <p class=\"text-muted text-small\">\n",
       "             \n",
       "     Stars:\n",
       " <a href=\"/name/nm2569233/\">Yûki Kaji</a>, \n",
       " <a href=\"/name/nm2095800/\">Marina Inoue</a>, \n",
       " <a href=\"/name/nm2171329/\">Josh Grelle</a>, \n",
       " <a href=\"/name/nm3426369/\">Yui Ishikawa</a>\n",
       " </p>,\n",
       " <p class=\"text-muted text-small\">\n",
       " <span class=\"text-muted\">Votes:</span>\n",
       " <span data-value=\"256668\" name=\"nv\">256,668</span>\n",
       " </p>]"
      ]
     },
     "execution_count": 153,
     "metadata": {},
     "output_type": "execute_result"
    }
   ],
   "source": [
    "items[0].select('p.text-muted.text-small')"
   ]
  },
  {
   "cell_type": "code",
   "execution_count": 154,
   "id": "2931a6ee",
   "metadata": {},
   "outputs": [
    {
     "data": {
      "text/plain": [
       "[<div class=\"ratings-bar\">\n",
       " <div class=\"inline-block ratings-imdb-rating\" data-value=\"9\" name=\"ir\">\n",
       " <span class=\"global-sprite rating-star imdb-rating\"></span>\n",
       " <strong>9.0</strong>\n",
       " </div>\n",
       " <div class=\"inline-block ratings-user-rating\">\n",
       " <span class=\"userRatingValue\" data-tconst=\"tt2560140\" id=\"urv_tt2560140\">\n",
       " <span class=\"global-sprite rating-star no-rating\"></span>\n",
       " <span class=\"rate\" data-no-rating=\"Rate this\" data-value=\"0\" name=\"ur\">Rate this</span>\n",
       " </span>\n",
       " <div class=\"starBarWidget\" id=\"sb_tt2560140\">\n",
       " <div class=\"rating rating-list\" data-csrf-token=\"\" data-ga-identifier=\"\" data-starbar-class=\"rating-list\" data-user=\"\" id=\"tt2560140|imdb|9|9|kw_li_tt||search|keyword\" itemprop=\"aggregateRating\" itemscope=\"\" itemtype=\"http://schema.org/AggregateRating\" title=\"Users rated this 9/10 (256,668 votes) - click stars to rate\">\n",
       " <meta content=\"9\" itemprop=\"ratingValue\"/>\n",
       " <meta content=\"10\" itemprop=\"bestRating\"/>\n",
       " <meta content=\"256668\" itemprop=\"ratingCount\"/>\n",
       " <span class=\"rating-bg\"> </span>\n",
       " <span class=\"rating-imdb\" style=\"width: 126px\"> </span>\n",
       " <span class=\"rating-stars\">\n",
       " <a href=\"/register/login?why=vote\" rel=\"nofollow\" title=\"Register or login to rate this title\"><span>1</span></a>\n",
       " <a href=\"/register/login?why=vote\" rel=\"nofollow\" title=\"Register or login to rate this title\"><span>2</span></a>\n",
       " <a href=\"/register/login?why=vote\" rel=\"nofollow\" title=\"Register or login to rate this title\"><span>3</span></a>\n",
       " <a href=\"/register/login?why=vote\" rel=\"nofollow\" title=\"Register or login to rate this title\"><span>4</span></a>\n",
       " <a href=\"/register/login?why=vote\" rel=\"nofollow\" title=\"Register or login to rate this title\"><span>5</span></a>\n",
       " <a href=\"/register/login?why=vote\" rel=\"nofollow\" title=\"Register or login to rate this title\"><span>6</span></a>\n",
       " <a href=\"/register/login?why=vote\" rel=\"nofollow\" title=\"Register or login to rate this title\"><span>7</span></a>\n",
       " <a href=\"/register/login?why=vote\" rel=\"nofollow\" title=\"Register or login to rate this title\"><span>8</span></a>\n",
       " <a href=\"/register/login?why=vote\" rel=\"nofollow\" title=\"Register or login to rate this title\"><span>9</span></a>\n",
       " <a href=\"/register/login?why=vote\" rel=\"nofollow\" title=\"Register or login to rate this title\"><span>10</span></a>\n",
       " </span>\n",
       " <span class=\"rating-rating\"><span class=\"value\">9</span><span class=\"grey\">/</span><span class=\"grey\">10</span></span>\n",
       " <span class=\"rating-cancel\"><a href=\"/title/tt2560140/vote\" rel=\"nofollow\" title=\"Delete\"><span>X</span></a></span>\n",
       "  </div>\n",
       " </div>\n",
       " </div>\n",
       " </div>]"
      ]
     },
     "execution_count": 154,
     "metadata": {},
     "output_type": "execute_result"
    }
   ],
   "source": [
    "items[0].select('div.ratings-bar')"
   ]
  },
  {
   "cell_type": "code",
   "execution_count": null,
   "id": "6f0a0ae9",
   "metadata": {},
   "outputs": [],
   "source": [
    "items[0].select('div.ratings-bar').attrs.get('strong')"
   ]
  },
  {
   "cell_type": "code",
   "execution_count": 178,
   "id": "2705ebcb",
   "metadata": {},
   "outputs": [
    {
     "data": {
      "text/plain": [
       "[<div class=\"inline-block ratings-imdb-rating\" data-value=\"9\" name=\"ir\">\n",
       " <span class=\"global-sprite rating-star imdb-rating\"></span>\n",
       " <strong>9.0</strong>\n",
       " </div>]"
      ]
     },
     "execution_count": 178,
     "metadata": {},
     "output_type": "execute_result"
    }
   ],
   "source": [
    "items[0].select('div.inline-block.ratings-imdb-rating')"
   ]
  },
  {
   "cell_type": "code",
   "execution_count": 188,
   "id": "1fefcd06",
   "metadata": {
    "scrolled": true
   },
   "outputs": [
    {
     "data": {
      "text/plain": [
       "bs4.element.ResultSet"
      ]
     },
     "execution_count": 188,
     "metadata": {},
     "output_type": "execute_result"
    }
   ],
   "source": [
    "type(items[0].select('div.inline-block.ratings-imdb-rating')"
   ]
  },
  {
   "cell_type": "markdown",
   "id": "f0148e8c",
   "metadata": {},
   "source": [
    "# Saca Rating"
   ]
  },
  {
   "cell_type": "code",
   "execution_count": 205,
   "id": "f3c1f794",
   "metadata": {},
   "outputs": [
    {
     "data": {
      "text/plain": [
       "'9.0'"
      ]
     },
     "execution_count": 205,
     "metadata": {},
     "output_type": "execute_result"
    }
   ],
   "source": [
    "str(items[0].select('div.inline-block.ratings-imdb-rating strong')).split('>')[1].split('<')[0]"
   ]
  },
  {
   "cell_type": "code",
   "execution_count": 220,
   "id": "e0ca796f",
   "metadata": {},
   "outputs": [
    {
     "data": {
      "text/plain": [
       "[<p class=\"text-muted text-small\">\n",
       " <span class=\"certificate\">15</span>\n",
       " <span class=\"ghost\">|</span>\n",
       " <span class=\"runtime\">24 min</span>\n",
       " <span class=\"ghost\">|</span>\n",
       " <span class=\"genre\">\n",
       " Animation, Action, Adventure            </span>\n",
       " </p>,\n",
       " <p class=\"\">\n",
       " After his hometown is destroyed and his mother is killed, young Eren Jaeger vows to cleanse the earth of the giant humanoid Titans that have brought humanity to the brink of extinction.</p>,\n",
       " <p class=\"text-muted text-small\">\n",
       "             \n",
       "     Stars:\n",
       " <a href=\"/name/nm2569233/\">Yûki Kaji</a>, \n",
       " <a href=\"/name/nm2095800/\">Marina Inoue</a>, \n",
       " <a href=\"/name/nm2171329/\">Josh Grelle</a>, \n",
       " <a href=\"/name/nm3426369/\">Yui Ishikawa</a>\n",
       " </p>,\n",
       " <p class=\"text-muted text-small\">\n",
       " <span class=\"text-muted\">Votes:</span>\n",
       " <span data-value=\"256668\" name=\"nv\">256,668</span>\n",
       " </p>]"
      ]
     },
     "execution_count": 220,
     "metadata": {},
     "output_type": "execute_result"
    }
   ],
   "source": [
    "items[0].select('p')"
   ]
  },
  {
   "cell_type": "code",
   "execution_count": 235,
   "id": "14dea6fe",
   "metadata": {},
   "outputs": [
    {
     "data": {
      "text/plain": [
       "[]"
      ]
     },
     "execution_count": 235,
     "metadata": {},
     "output_type": "execute_result"
    }
   ],
   "source": [
    "items[0].select('p [class=\"\"]')"
   ]
  },
  {
   "cell_type": "markdown",
   "id": "4f96af16",
   "metadata": {},
   "source": [
    "# Saca descripcion"
   ]
  },
  {
   "cell_type": "code",
   "execution_count": 261,
   "id": "31b50468",
   "metadata": {
    "scrolled": true
   },
   "outputs": [
    {
     "data": {
      "text/plain": [
       "'After his hometown is destroyed and his mother is killed, young Eren Jaeger vows to cleanse the earth of the giant humanoid Titans that have brought humanity to the brink of extinction.'"
      ]
     },
     "execution_count": 261,
     "metadata": {},
     "output_type": "execute_result"
    }
   ],
   "source": [
    "str(items[0].select('p[class=\"\"]'))[14:-5] # bs4.element.ResultSet"
   ]
  },
  {
   "cell_type": "markdown",
   "id": "b1808126",
   "metadata": {},
   "source": [
    "# Saca Categorias"
   ]
  },
  {
   "cell_type": "code",
   "execution_count": 294,
   "id": "64941d4a",
   "metadata": {},
   "outputs": [],
   "source": [
    "elems = str(items[0].select('span[class=\"genre\"]'))[22:-8].split(' ')"
   ]
  },
  {
   "cell_type": "code",
   "execution_count": 293,
   "id": "968979a9",
   "metadata": {},
   "outputs": [
    {
     "data": {
      "text/plain": [
       "['Animation,', 'Action,', 'Adventure']"
      ]
     },
     "execution_count": 293,
     "metadata": {},
     "output_type": "execute_result"
    }
   ],
   "source": [
    "filtered = [x for x in elems if x!='']\n",
    "filtered"
   ]
  },
  {
   "cell_type": "code",
   "execution_count": null,
   "id": "f3f45d1a",
   "metadata": {},
   "outputs": [],
   "source": []
  },
  {
   "cell_type": "markdown",
   "id": "b848c978",
   "metadata": {},
   "source": [
    "# Saca Titutlo"
   ]
  },
  {
   "cell_type": "code",
   "execution_count": 316,
   "id": "75321627",
   "metadata": {
    "scrolled": false
   },
   "outputs": [],
   "source": [
    "titles = []\n",
    "for i in range(len(items)):\n",
    "    titles.append(soup.select('h3.lister-item-header a')[i].get_text())"
   ]
  },
  {
   "cell_type": "code",
   "execution_count": 319,
   "id": "280f9480",
   "metadata": {
    "scrolled": true
   },
   "outputs": [
    {
     "data": {
      "text/plain": [
       "'Shingeki no kyojin'"
      ]
     },
     "execution_count": 319,
     "metadata": {},
     "output_type": "execute_result"
    }
   ],
   "source": [
    "titles[0]"
   ]
  },
  {
   "cell_type": "markdown",
   "id": "5abef560",
   "metadata": {},
   "source": [
    "# Loop sobre todos los items"
   ]
  },
  {
   "cell_type": "code",
   "execution_count": 320,
   "id": "7514e743",
   "metadata": {},
   "outputs": [],
   "source": [
    "movies_data = pd.DataFrame(columns=['title', 'rating', 'categories', 'description'])"
   ]
  },
  {
   "cell_type": "code",
   "execution_count": 321,
   "id": "f94c124d",
   "metadata": {},
   "outputs": [
    {
     "data": {
      "text/html": [
       "<div>\n",
       "<style scoped>\n",
       "    .dataframe tbody tr th:only-of-type {\n",
       "        vertical-align: middle;\n",
       "    }\n",
       "\n",
       "    .dataframe tbody tr th {\n",
       "        vertical-align: top;\n",
       "    }\n",
       "\n",
       "    .dataframe thead th {\n",
       "        text-align: right;\n",
       "    }\n",
       "</style>\n",
       "<table border=\"1\" class=\"dataframe\">\n",
       "  <thead>\n",
       "    <tr style=\"text-align: right;\">\n",
       "      <th></th>\n",
       "      <th>title</th>\n",
       "      <th>rating</th>\n",
       "      <th>categories</th>\n",
       "      <th>description</th>\n",
       "    </tr>\n",
       "  </thead>\n",
       "  <tbody>\n",
       "  </tbody>\n",
       "</table>\n",
       "</div>"
      ],
      "text/plain": [
       "Empty DataFrame\n",
       "Columns: [title, rating, categories, description]\n",
       "Index: []"
      ]
     },
     "execution_count": 321,
     "metadata": {},
     "output_type": "execute_result"
    }
   ],
   "source": [
    "movies_data"
   ]
  },
  {
   "cell_type": "code",
   "execution_count": 322,
   "id": "b45d8290",
   "metadata": {},
   "outputs": [],
   "source": [
    "movies_data['title'] = titles"
   ]
  },
  {
   "cell_type": "code",
   "execution_count": null,
   "id": "23d4550f",
   "metadata": {},
   "outputs": [],
   "source": []
  },
  {
   "cell_type": "code",
   "execution_count": 324,
   "id": "967b7239",
   "metadata": {},
   "outputs": [],
   "source": [
    "ratings = []\n",
    "descriptions = []\n",
    "categories = []\n",
    "for i in range(len(items)):\n",
    "    rat = str(items[i].select('div.inline-block.ratings-imdb-rating strong')).split('>')[1].split('<')[0]\n",
    "    desc = str(items[i].select('p[class=\"\"]'))[14:-5]\n",
    "    elems = str(items[i].select('span[class=\"genre\"]'))[22:-8].split(' ')\n",
    "    cat = [x for x in elems if x!='']\n",
    "    \n",
    "    ratings.append(rat)\n",
    "    descriptions.append(desc)\n",
    "    categories.append(cat)"
   ]
  },
  {
   "cell_type": "code",
   "execution_count": 326,
   "id": "dd653142",
   "metadata": {},
   "outputs": [],
   "source": [
    "movies_data['rating'] = ratings\n",
    "movies_data['categories'] = categories\n",
    "movies_data['description']  = descriptions"
   ]
  },
  {
   "cell_type": "code",
   "execution_count": 328,
   "id": "de02526b",
   "metadata": {},
   "outputs": [],
   "source": [
    "movies_data.to_csv('/Users/rafaelmateus/Desktop/anime.csv')"
   ]
  },
  {
   "cell_type": "code",
   "execution_count": 330,
   "id": "6f33f736",
   "metadata": {},
   "outputs": [
    {
     "data": {
      "text/plain": [
       "['Animation,', 'Action,', 'Adventure']"
      ]
     },
     "execution_count": 330,
     "metadata": {},
     "output_type": "execute_result"
    }
   ],
   "source": [
    "movies_data['categories'][0]"
   ]
  },
  {
   "cell_type": "code",
   "execution_count": null,
   "id": "572dccd9",
   "metadata": {},
   "outputs": [],
   "source": []
  },
  {
   "cell_type": "code",
   "execution_count": null,
   "id": "ce9bd8c6",
   "metadata": {},
   "outputs": [],
   "source": []
  },
  {
   "cell_type": "code",
   "execution_count": null,
   "id": "59791dfb",
   "metadata": {},
   "outputs": [],
   "source": []
  },
  {
   "cell_type": "code",
   "execution_count": null,
   "id": "9dd27a8d",
   "metadata": {},
   "outputs": [],
   "source": []
  },
  {
   "cell_type": "code",
   "execution_count": 318,
   "id": "e1b22091",
   "metadata": {},
   "outputs": [
    {
     "data": {
      "text/plain": [
       "50"
      ]
     },
     "execution_count": 318,
     "metadata": {},
     "output_type": "execute_result"
    }
   ],
   "source": [
    "len(titles)"
   ]
  },
  {
   "cell_type": "code",
   "execution_count": null,
   "id": "0db46786",
   "metadata": {},
   "outputs": [],
   "source": []
  },
  {
   "cell_type": "code",
   "execution_count": null,
   "id": "67c2a94a",
   "metadata": {},
   "outputs": [],
   "source": []
  },
  {
   "cell_type": "code",
   "execution_count": null,
   "id": "d27b759e",
   "metadata": {},
   "outputs": [],
   "source": []
  },
  {
   "cell_type": "code",
   "execution_count": null,
   "id": "33ecc6cf",
   "metadata": {},
   "outputs": [],
   "source": [
    "<a href=\"/title/tt2560140/?ref_=kw_li_tt\">Attack on Titan</a>"
   ]
  },
  {
   "cell_type": "code",
   "execution_count": 309,
   "id": "ba8c5ca6",
   "metadata": {},
   "outputs": [
    {
     "data": {
      "text/plain": [
       "[<a href=\"/title/tt2560140/\"> <img alt=\"Shingeki no kyojin\" class=\"loadlate\" data-tconst=\"tt2560140\" height=\"209\" loadlate=\"https://m.media-amazon.com/images/M/MV5BMTY5ODk1NzUyMl5BMl5BanBnXkFtZTgwMjUyNzEyMTE@._V1_UX140_CR0,0,140,209_AL_.jpg\" src=\"https://m.media-amazon.com/images/S/sash/4FyxwxECzL-U1J8.png\" width=\"140\"/>\n",
       " </a>,\n",
       " <a href=\"/title/tt2560140/\">Shingeki no kyojin</a>,\n",
       " <a href=\"/register/login?why=vote\" rel=\"nofollow\" title=\"Register or login to rate this title\"><span>1</span></a>,\n",
       " <a href=\"/register/login?why=vote\" rel=\"nofollow\" title=\"Register or login to rate this title\"><span>2</span></a>,\n",
       " <a href=\"/register/login?why=vote\" rel=\"nofollow\" title=\"Register or login to rate this title\"><span>3</span></a>,\n",
       " <a href=\"/register/login?why=vote\" rel=\"nofollow\" title=\"Register or login to rate this title\"><span>4</span></a>,\n",
       " <a href=\"/register/login?why=vote\" rel=\"nofollow\" title=\"Register or login to rate this title\"><span>5</span></a>,\n",
       " <a href=\"/register/login?why=vote\" rel=\"nofollow\" title=\"Register or login to rate this title\"><span>6</span></a>,\n",
       " <a href=\"/register/login?why=vote\" rel=\"nofollow\" title=\"Register or login to rate this title\"><span>7</span></a>,\n",
       " <a href=\"/register/login?why=vote\" rel=\"nofollow\" title=\"Register or login to rate this title\"><span>8</span></a>,\n",
       " <a href=\"/register/login?why=vote\" rel=\"nofollow\" title=\"Register or login to rate this title\"><span>9</span></a>,\n",
       " <a href=\"/register/login?why=vote\" rel=\"nofollow\" title=\"Register or login to rate this title\"><span>10</span></a>,\n",
       " <a href=\"/title/tt2560140/vote\" rel=\"nofollow\" title=\"Delete\"><span>X</span></a>,\n",
       " <a href=\"/name/nm2569233/\">Yûki Kaji</a>,\n",
       " <a href=\"/name/nm2095800/\">Marina Inoue</a>,\n",
       " <a href=\"/name/nm2171329/\">Josh Grelle</a>,\n",
       " <a href=\"/name/nm3426369/\">Yui Ishikawa</a>]"
      ]
     },
     "execution_count": 309,
     "metadata": {},
     "output_type": "execute_result"
    }
   ],
   "source": [
    "items[0].select('a[href]')"
   ]
  },
  {
   "cell_type": "code",
   "execution_count": 300,
   "id": "702a1284",
   "metadata": {},
   "outputs": [
    {
     "ename": "SelectorSyntaxError",
     "evalue": "Invalid character '/' position 0\n  line 1:\n//*[@id=\"main\"]/div/div[2]/div[3]/div[1]/div[2]/h3/a\n^",
     "output_type": "error",
     "traceback": [
      "\u001b[0;31m---------------------------------------------------------------------------\u001b[0m",
      "\u001b[0;31mSelectorSyntaxError\u001b[0m                       Traceback (most recent call last)",
      "\u001b[0;32m/var/folders/nv/xg8c1lkd4bq4th3rhq8nlglw0000gn/T/ipykernel_2354/3518808172.py\u001b[0m in \u001b[0;36m<module>\u001b[0;34m\u001b[0m\n\u001b[0;32m----> 1\u001b[0;31m \u001b[0mitems\u001b[0m\u001b[0;34m[\u001b[0m\u001b[0;36m0\u001b[0m\u001b[0;34m]\u001b[0m\u001b[0;34m.\u001b[0m\u001b[0mselect\u001b[0m\u001b[0;34m(\u001b[0m\u001b[0;34m'//*[@id=\"main\"]/div/div[2]/div[3]/div[1]/div[2]/h3/a'\u001b[0m\u001b[0;34m)\u001b[0m\u001b[0;34m\u001b[0m\u001b[0;34m\u001b[0m\u001b[0m\n\u001b[0m",
      "\u001b[0;32m/opt/anaconda3/envs/web_env/lib/python3.9/site-packages/bs4/element.py\u001b[0m in \u001b[0;36mselect\u001b[0;34m(self, selector, namespaces, limit, **kwargs)\u001b[0m\n\u001b[1;32m   1947\u001b[0m             )\n\u001b[1;32m   1948\u001b[0m \u001b[0;34m\u001b[0m\u001b[0m\n\u001b[0;32m-> 1949\u001b[0;31m         \u001b[0mresults\u001b[0m \u001b[0;34m=\u001b[0m \u001b[0msoupsieve\u001b[0m\u001b[0;34m.\u001b[0m\u001b[0mselect\u001b[0m\u001b[0;34m(\u001b[0m\u001b[0mselector\u001b[0m\u001b[0;34m,\u001b[0m \u001b[0mself\u001b[0m\u001b[0;34m,\u001b[0m \u001b[0mnamespaces\u001b[0m\u001b[0;34m,\u001b[0m \u001b[0mlimit\u001b[0m\u001b[0;34m,\u001b[0m \u001b[0;34m**\u001b[0m\u001b[0mkwargs\u001b[0m\u001b[0;34m)\u001b[0m\u001b[0;34m\u001b[0m\u001b[0;34m\u001b[0m\u001b[0m\n\u001b[0m\u001b[1;32m   1950\u001b[0m \u001b[0;34m\u001b[0m\u001b[0m\n\u001b[1;32m   1951\u001b[0m         \u001b[0;31m# We do this because it's more consistent and because\u001b[0m\u001b[0;34m\u001b[0m\u001b[0;34m\u001b[0m\u001b[0m\n",
      "\u001b[0;32m/opt/anaconda3/envs/web_env/lib/python3.9/site-packages/soupsieve/__init__.py\u001b[0m in \u001b[0;36mselect\u001b[0;34m(select, tag, namespaces, limit, flags, **kwargs)\u001b[0m\n\u001b[1;32m     96\u001b[0m     \u001b[0;34m\"\"\"Select the specified tags.\"\"\"\u001b[0m\u001b[0;34m\u001b[0m\u001b[0;34m\u001b[0m\u001b[0m\n\u001b[1;32m     97\u001b[0m \u001b[0;34m\u001b[0m\u001b[0m\n\u001b[0;32m---> 98\u001b[0;31m     \u001b[0;32mreturn\u001b[0m \u001b[0mcompile\u001b[0m\u001b[0;34m(\u001b[0m\u001b[0mselect\u001b[0m\u001b[0;34m,\u001b[0m \u001b[0mnamespaces\u001b[0m\u001b[0;34m,\u001b[0m \u001b[0mflags\u001b[0m\u001b[0;34m,\u001b[0m \u001b[0;34m**\u001b[0m\u001b[0mkwargs\u001b[0m\u001b[0;34m)\u001b[0m\u001b[0;34m.\u001b[0m\u001b[0mselect\u001b[0m\u001b[0;34m(\u001b[0m\u001b[0mtag\u001b[0m\u001b[0;34m,\u001b[0m \u001b[0mlimit\u001b[0m\u001b[0;34m)\u001b[0m\u001b[0;34m\u001b[0m\u001b[0;34m\u001b[0m\u001b[0m\n\u001b[0m\u001b[1;32m     99\u001b[0m \u001b[0;34m\u001b[0m\u001b[0m\n\u001b[1;32m    100\u001b[0m \u001b[0;34m\u001b[0m\u001b[0m\n",
      "\u001b[0;32m/opt/anaconda3/envs/web_env/lib/python3.9/site-packages/soupsieve/__init__.py\u001b[0m in \u001b[0;36mcompile\u001b[0;34m(pattern, namespaces, flags, **kwargs)\u001b[0m\n\u001b[1;32m     60\u001b[0m         \u001b[0;32mreturn\u001b[0m \u001b[0mpattern\u001b[0m\u001b[0;34m\u001b[0m\u001b[0;34m\u001b[0m\u001b[0m\n\u001b[1;32m     61\u001b[0m \u001b[0;34m\u001b[0m\u001b[0m\n\u001b[0;32m---> 62\u001b[0;31m     \u001b[0;32mreturn\u001b[0m \u001b[0mcp\u001b[0m\u001b[0;34m.\u001b[0m\u001b[0m_cached_css_compile\u001b[0m\u001b[0;34m(\u001b[0m\u001b[0mpattern\u001b[0m\u001b[0;34m,\u001b[0m \u001b[0mnamespaces\u001b[0m\u001b[0;34m,\u001b[0m \u001b[0mcustom\u001b[0m\u001b[0;34m,\u001b[0m \u001b[0mflags\u001b[0m\u001b[0;34m)\u001b[0m\u001b[0;34m\u001b[0m\u001b[0;34m\u001b[0m\u001b[0m\n\u001b[0m\u001b[1;32m     63\u001b[0m \u001b[0;34m\u001b[0m\u001b[0m\n\u001b[1;32m     64\u001b[0m \u001b[0;34m\u001b[0m\u001b[0m\n",
      "\u001b[0;32m/opt/anaconda3/envs/web_env/lib/python3.9/site-packages/soupsieve/css_parser.py\u001b[0m in \u001b[0;36m_cached_css_compile\u001b[0;34m(pattern, namespaces, custom, flags)\u001b[0m\n\u001b[1;32m    206\u001b[0m     return cm.SoupSieve(\n\u001b[1;32m    207\u001b[0m         \u001b[0mpattern\u001b[0m\u001b[0;34m,\u001b[0m\u001b[0;34m\u001b[0m\u001b[0;34m\u001b[0m\u001b[0m\n\u001b[0;32m--> 208\u001b[0;31m         \u001b[0mCSSParser\u001b[0m\u001b[0;34m(\u001b[0m\u001b[0mpattern\u001b[0m\u001b[0;34m,\u001b[0m \u001b[0mcustom\u001b[0m\u001b[0;34m=\u001b[0m\u001b[0mcustom_selectors\u001b[0m\u001b[0;34m,\u001b[0m \u001b[0mflags\u001b[0m\u001b[0;34m=\u001b[0m\u001b[0mflags\u001b[0m\u001b[0;34m)\u001b[0m\u001b[0;34m.\u001b[0m\u001b[0mprocess_selectors\u001b[0m\u001b[0;34m(\u001b[0m\u001b[0;34m)\u001b[0m\u001b[0;34m,\u001b[0m\u001b[0;34m\u001b[0m\u001b[0;34m\u001b[0m\u001b[0m\n\u001b[0m\u001b[1;32m    209\u001b[0m         \u001b[0mnamespaces\u001b[0m\u001b[0;34m,\u001b[0m\u001b[0;34m\u001b[0m\u001b[0;34m\u001b[0m\u001b[0m\n\u001b[1;32m    210\u001b[0m         \u001b[0mcustom\u001b[0m\u001b[0;34m,\u001b[0m\u001b[0;34m\u001b[0m\u001b[0;34m\u001b[0m\u001b[0m\n",
      "\u001b[0;32m/opt/anaconda3/envs/web_env/lib/python3.9/site-packages/soupsieve/css_parser.py\u001b[0m in \u001b[0;36mprocess_selectors\u001b[0;34m(self, index, flags)\u001b[0m\n\u001b[1;32m   1041\u001b[0m         \u001b[0;34m\"\"\"Process selectors.\"\"\"\u001b[0m\u001b[0;34m\u001b[0m\u001b[0;34m\u001b[0m\u001b[0m\n\u001b[1;32m   1042\u001b[0m \u001b[0;34m\u001b[0m\u001b[0m\n\u001b[0;32m-> 1043\u001b[0;31m         \u001b[0;32mreturn\u001b[0m \u001b[0mself\u001b[0m\u001b[0;34m.\u001b[0m\u001b[0mparse_selectors\u001b[0m\u001b[0;34m(\u001b[0m\u001b[0mself\u001b[0m\u001b[0;34m.\u001b[0m\u001b[0mselector_iter\u001b[0m\u001b[0;34m(\u001b[0m\u001b[0mself\u001b[0m\u001b[0;34m.\u001b[0m\u001b[0mpattern\u001b[0m\u001b[0;34m)\u001b[0m\u001b[0;34m,\u001b[0m \u001b[0mindex\u001b[0m\u001b[0;34m,\u001b[0m \u001b[0mflags\u001b[0m\u001b[0;34m)\u001b[0m\u001b[0;34m\u001b[0m\u001b[0;34m\u001b[0m\u001b[0m\n\u001b[0m\u001b[1;32m   1044\u001b[0m \u001b[0;34m\u001b[0m\u001b[0m\n\u001b[1;32m   1045\u001b[0m \u001b[0;34m\u001b[0m\u001b[0m\n",
      "\u001b[0;32m/opt/anaconda3/envs/web_env/lib/python3.9/site-packages/soupsieve/css_parser.py\u001b[0m in \u001b[0;36mparse_selectors\u001b[0;34m(self, iselector, index, flags)\u001b[0m\n\u001b[1;32m    892\u001b[0m         \u001b[0;32mtry\u001b[0m\u001b[0;34m:\u001b[0m\u001b[0;34m\u001b[0m\u001b[0;34m\u001b[0m\u001b[0m\n\u001b[1;32m    893\u001b[0m             \u001b[0;32mwhile\u001b[0m \u001b[0;32mTrue\u001b[0m\u001b[0;34m:\u001b[0m\u001b[0;34m\u001b[0m\u001b[0;34m\u001b[0m\u001b[0m\n\u001b[0;32m--> 894\u001b[0;31m                 \u001b[0mkey\u001b[0m\u001b[0;34m,\u001b[0m \u001b[0mm\u001b[0m \u001b[0;34m=\u001b[0m \u001b[0mnext\u001b[0m\u001b[0;34m(\u001b[0m\u001b[0miselector\u001b[0m\u001b[0;34m)\u001b[0m\u001b[0;34m\u001b[0m\u001b[0;34m\u001b[0m\u001b[0m\n\u001b[0m\u001b[1;32m    895\u001b[0m \u001b[0;34m\u001b[0m\u001b[0m\n\u001b[1;32m    896\u001b[0m                 \u001b[0;31m# Handle parts\u001b[0m\u001b[0;34m\u001b[0m\u001b[0;34m\u001b[0m\u001b[0m\n",
      "\u001b[0;32m/opt/anaconda3/envs/web_env/lib/python3.9/site-packages/soupsieve/css_parser.py\u001b[0m in \u001b[0;36mselector_iter\u001b[0;34m(self, pattern)\u001b[0m\n\u001b[1;32m   1034\u001b[0m                 \u001b[0;32melse\u001b[0m\u001b[0;34m:\u001b[0m\u001b[0;34m\u001b[0m\u001b[0;34m\u001b[0m\u001b[0m\n\u001b[1;32m   1035\u001b[0m                     \u001b[0mmsg\u001b[0m \u001b[0;34m=\u001b[0m \u001b[0;34m\"Invalid character {!r} position {}\"\u001b[0m\u001b[0;34m.\u001b[0m\u001b[0mformat\u001b[0m\u001b[0;34m(\u001b[0m\u001b[0mc\u001b[0m\u001b[0;34m,\u001b[0m \u001b[0mindex\u001b[0m\u001b[0;34m)\u001b[0m\u001b[0;34m\u001b[0m\u001b[0;34m\u001b[0m\u001b[0m\n\u001b[0;32m-> 1036\u001b[0;31m                 \u001b[0;32mraise\u001b[0m \u001b[0mSelectorSyntaxError\u001b[0m\u001b[0;34m(\u001b[0m\u001b[0mmsg\u001b[0m\u001b[0;34m,\u001b[0m \u001b[0mself\u001b[0m\u001b[0;34m.\u001b[0m\u001b[0mpattern\u001b[0m\u001b[0;34m,\u001b[0m \u001b[0mindex\u001b[0m\u001b[0;34m)\u001b[0m\u001b[0;34m\u001b[0m\u001b[0;34m\u001b[0m\u001b[0m\n\u001b[0m\u001b[1;32m   1037\u001b[0m         \u001b[0;32mif\u001b[0m \u001b[0mself\u001b[0m\u001b[0;34m.\u001b[0m\u001b[0mdebug\u001b[0m\u001b[0;34m:\u001b[0m  \u001b[0;31m# pragma: no cover\u001b[0m\u001b[0;34m\u001b[0m\u001b[0;34m\u001b[0m\u001b[0m\n\u001b[1;32m   1038\u001b[0m             \u001b[0mprint\u001b[0m\u001b[0;34m(\u001b[0m\u001b[0;34m'## END PARSING'\u001b[0m\u001b[0;34m)\u001b[0m\u001b[0;34m\u001b[0m\u001b[0;34m\u001b[0m\u001b[0m\n",
      "\u001b[0;31mSelectorSyntaxError\u001b[0m: Invalid character '/' position 0\n  line 1:\n//*[@id=\"main\"]/div/div[2]/div[3]/div[1]/div[2]/h3/a\n^"
     ]
    }
   ],
   "source": [
    "items[0].select('')"
   ]
  },
  {
   "cell_type": "code",
   "execution_count": null,
   "id": "ae452c0e",
   "metadata": {},
   "outputs": [],
   "source": [
    "//*[@id=\"main\"]/div/div[2]/div[3]/div[1]/div[2]/h3/a"
   ]
  },
  {
   "cell_type": "code",
   "execution_count": null,
   "id": "60f89038",
   "metadata": {},
   "outputs": [],
   "source": []
  },
  {
   "cell_type": "markdown",
   "id": "5d364c52",
   "metadata": {},
   "source": [
    "# Tries"
   ]
  },
  {
   "cell_type": "code",
   "execution_count": 268,
   "id": "44418a96",
   "metadata": {},
   "outputs": [
    {
     "data": {
      "text/plain": [
       "[<span class=\"genre\">\n",
       " Animation, Action, Adventure            </span>]"
      ]
     },
     "execution_count": 268,
     "metadata": {},
     "output_type": "execute_result"
    }
   ],
   "source": [
    "items[0].select('span.genre')"
   ]
  },
  {
   "cell_type": "code",
   "execution_count": null,
   "id": "f5bb34d6",
   "metadata": {},
   "outputs": [],
   "source": []
  },
  {
   "cell_type": "code",
   "execution_count": null,
   "id": "a48208dc",
   "metadata": {},
   "outputs": [],
   "source": []
  },
  {
   "cell_type": "code",
   "execution_count": 190,
   "id": "2f5abbda",
   "metadata": {},
   "outputs": [
    {
     "ename": "AttributeError",
     "evalue": "ResultSet object has no attribute 'find_all'. You're probably treating a list of elements like a single element. Did you call find_all() when you meant to call find()?",
     "output_type": "error",
     "traceback": [
      "\u001b[0;31m---------------------------------------------------------------------------\u001b[0m",
      "\u001b[0;31mAttributeError\u001b[0m                            Traceback (most recent call last)",
      "\u001b[0;32m/var/folders/nv/xg8c1lkd4bq4th3rhq8nlglw0000gn/T/ipykernel_2354/1112941540.py\u001b[0m in \u001b[0;36m<module>\u001b[0;34m\u001b[0m\n\u001b[0;32m----> 1\u001b[0;31m \u001b[0mitems\u001b[0m\u001b[0;34m[\u001b[0m\u001b[0;36m0\u001b[0m\u001b[0;34m]\u001b[0m\u001b[0;34m.\u001b[0m\u001b[0mselect\u001b[0m\u001b[0;34m(\u001b[0m\u001b[0;34m'div.inline-block.ratings-imdb-rating'\u001b[0m\u001b[0;34m)\u001b[0m\u001b[0;34m.\u001b[0m\u001b[0mfind_all\u001b[0m\u001b[0;34m(\u001b[0m\u001b[0;34m'strong'\u001b[0m\u001b[0;34m)\u001b[0m\u001b[0;34m\u001b[0m\u001b[0;34m\u001b[0m\u001b[0m\n\u001b[0m",
      "\u001b[0;32m/opt/anaconda3/envs/web_env/lib/python3.9/site-packages/bs4/element.py\u001b[0m in \u001b[0;36m__getattr__\u001b[0;34m(self, key)\u001b[0m\n\u001b[1;32m   2251\u001b[0m     \u001b[0;32mdef\u001b[0m \u001b[0m__getattr__\u001b[0m\u001b[0;34m(\u001b[0m\u001b[0mself\u001b[0m\u001b[0;34m,\u001b[0m \u001b[0mkey\u001b[0m\u001b[0;34m)\u001b[0m\u001b[0;34m:\u001b[0m\u001b[0;34m\u001b[0m\u001b[0;34m\u001b[0m\u001b[0m\n\u001b[1;32m   2252\u001b[0m         \u001b[0;34m\"\"\"Raise a helpful exception to explain a common code fix.\"\"\"\u001b[0m\u001b[0;34m\u001b[0m\u001b[0;34m\u001b[0m\u001b[0m\n\u001b[0;32m-> 2253\u001b[0;31m         raise AttributeError(\n\u001b[0m\u001b[1;32m   2254\u001b[0m             \u001b[0;34m\"ResultSet object has no attribute '%s'. You're probably treating a list of elements like a single element. Did you call find_all() when you meant to call find()?\"\u001b[0m \u001b[0;34m%\u001b[0m \u001b[0mkey\u001b[0m\u001b[0;34m\u001b[0m\u001b[0;34m\u001b[0m\u001b[0m\n\u001b[1;32m   2255\u001b[0m         )\n",
      "\u001b[0;31mAttributeError\u001b[0m: ResultSet object has no attribute 'find_all'. You're probably treating a list of elements like a single element. Did you call find_all() when you meant to call find()?"
     ]
    }
   ],
   "source": [
    "items[0].select('div.inline-block.ratings-imdb-rating').find_all('strong')"
   ]
  },
  {
   "cell_type": "code",
   "execution_count": null,
   "id": "65fa7162",
   "metadata": {},
   "outputs": [],
   "source": []
  },
  {
   "cell_type": "code",
   "execution_count": null,
   "id": "6d5d9fac",
   "metadata": {},
   "outputs": [],
   "source": []
  },
  {
   "cell_type": "code",
   "execution_count": null,
   "id": "d9ab8e0d",
   "metadata": {},
   "outputs": [],
   "source": []
  },
  {
   "cell_type": "code",
   "execution_count": null,
   "id": "f4e888c3",
   "metadata": {},
   "outputs": [],
   "source": []
  },
  {
   "cell_type": "code",
   "execution_count": 130,
   "id": "7145bee5",
   "metadata": {},
   "outputs": [
    {
     "data": {
      "text/plain": [
       "[]"
      ]
     },
     "execution_count": 130,
     "metadata": {},
     "output_type": "execute_result"
    }
   ],
   "source": [
    "movies[0].select('div.lister-item.model_detail')"
   ]
  },
  {
   "cell_type": "code",
   "execution_count": 128,
   "id": "d67c1c58",
   "metadata": {
    "scrolled": true
   },
   "outputs": [],
   "source": [
    "for i in range(len(movies)):\n",
    "    movies[i].select('h3.lister-item-header')"
   ]
  },
  {
   "cell_type": "code",
   "execution_count": null,
   "id": "d3dd41e0",
   "metadata": {},
   "outputs": [],
   "source": []
  },
  {
   "cell_type": "code",
   "execution_count": null,
   "id": "d29a313d",
   "metadata": {},
   "outputs": [],
   "source": []
  },
  {
   "cell_type": "code",
   "execution_count": 53,
   "id": "ec959904",
   "metadata": {
    "scrolled": false
   },
   "outputs": [
    {
     "data": {
      "text/plain": [
       "50"
      ]
     },
     "execution_count": 53,
     "metadata": {},
     "output_type": "execute_result"
    }
   ],
   "source": [
    "soup.select('h3.lister-item-header')"
   ]
  },
  {
   "cell_type": "code",
   "execution_count": null,
   "id": "73bcecf9",
   "metadata": {},
   "outputs": [],
   "source": []
  },
  {
   "cell_type": "code",
   "execution_count": null,
   "id": "c1bbd300",
   "metadata": {},
   "outputs": [],
   "source": []
  },
  {
   "cell_type": "code",
   "execution_count": 54,
   "id": "35cf1055",
   "metadata": {},
   "outputs": [],
   "source": [
    "links = [a.attrs.get('href') for a in soup.select('h3.lister-item-header a')]"
   ]
  },
  {
   "cell_type": "code",
   "execution_count": 58,
   "id": "70101f44",
   "metadata": {
    "scrolled": true
   },
   "outputs": [
    {
     "data": {
      "text/plain": [
       "['/title/tt2560140/',\n",
       " '/title/tt9335498/',\n",
       " '/title/tt0388629/',\n",
       " '/title/tt5626028/',\n",
       " '/title/tt0213338/']"
      ]
     },
     "execution_count": 58,
     "metadata": {},
     "output_type": "execute_result"
    }
   ],
   "source": [
    "links[:5]"
   ]
  },
  {
   "cell_type": "code",
   "execution_count": 109,
   "id": "b91d8788",
   "metadata": {},
   "outputs": [
    {
     "data": {
      "text/plain": [
       "'Shingeki no kyojin'"
      ]
     },
     "execution_count": 109,
     "metadata": {},
     "output_type": "execute_result"
    }
   ],
   "source": [
    "soup.select('h3.lister-item-header a')[0].get_text()"
   ]
  },
  {
   "cell_type": "code",
   "execution_count": null,
   "id": "1a7e401f",
   "metadata": {},
   "outputs": [],
   "source": []
  },
  {
   "cell_type": "code",
   "execution_count": 76,
   "id": "c73afa69",
   "metadata": {
    "scrolled": false
   },
   "outputs": [
    {
     "data": {
      "text/plain": [
       "306"
      ]
     },
     "execution_count": 76,
     "metadata": {},
     "output_type": "execute_result"
    }
   ],
   "source": [
    "soup.select('p.text-muted.text-small span')\n",
    "len(soup.select('p.text-muted.text-small span'))"
   ]
  },
  {
   "cell_type": "code",
   "execution_count": 80,
   "id": "8be7c8e1",
   "metadata": {
    "scrolled": false
   },
   "outputs": [
    {
     "data": {
      "text/plain": [
       "[<span class=\"runtime\">24 min</span>,\n",
       " <span class=\"runtime\">25 min</span>,\n",
       " <span class=\"runtime\">24 min</span>,\n",
       " <span class=\"runtime\">24 min</span>,\n",
       " <span class=\"runtime\">24 min</span>]"
      ]
     },
     "execution_count": 80,
     "metadata": {},
     "output_type": "execute_result"
    }
   ],
   "source": [
    "times = soup.select('p.text-muted.text-small span[class=runtime]')\n",
    "times[:5]"
   ]
  },
  {
   "cell_type": "code",
   "execution_count": 110,
   "id": "ba3c2fa6",
   "metadata": {},
   "outputs": [
    {
     "data": {
      "text/plain": [
       "49"
      ]
     },
     "execution_count": 110,
     "metadata": {},
     "output_type": "execute_result"
    }
   ],
   "source": [
    "len(soup.select('p.text-muted.text-small span[class=runtime]'))"
   ]
  },
  {
   "cell_type": "code",
   "execution_count": 104,
   "id": "e18da839",
   "metadata": {},
   "outputs": [
    {
     "data": {
      "text/plain": [
       "['24 min',\n",
       " '25 min',\n",
       " '24 min',\n",
       " '24 min',\n",
       " '24 min',\n",
       " '24 min',\n",
       " '23 min',\n",
       " '24 min',\n",
       " '24 min',\n",
       " '125 min',\n",
       " '24 min',\n",
       " '117 min',\n",
       " '24 min',\n",
       " '24 min',\n",
       " '23 min',\n",
       " '24 min',\n",
       " '106 min',\n",
       " '24 min',\n",
       " '30 min',\n",
       " '104 min',\n",
       " '24 min',\n",
       " '119 min',\n",
       " '24 min',\n",
       " '24 min',\n",
       " '83 min',\n",
       " '24 min',\n",
       " '23 min',\n",
       " '24 min',\n",
       " '24 min',\n",
       " '24 min',\n",
       " '24 min',\n",
       " '24 min',\n",
       " '24 min',\n",
       " '24 min',\n",
       " '89 min',\n",
       " '24 min',\n",
       " '134 min',\n",
       " '25 min',\n",
       " '24 min',\n",
       " '25 min',\n",
       " '24 min',\n",
       " '45 min',\n",
       " '24 min',\n",
       " '24 min',\n",
       " '23 min',\n",
       " '25 min',\n",
       " '23 min',\n",
       " '81 min',\n",
       " '130 min']"
      ]
     },
     "execution_count": 104,
     "metadata": {},
     "output_type": "execute_result"
    }
   ],
   "source": [
    "[a.get_text() for a in soup.select('p.text-muted.text-small span[class=runtime]')]"
   ]
  },
  {
   "cell_type": "code",
   "execution_count": null,
   "id": "7846cbad",
   "metadata": {},
   "outputs": [],
   "source": []
  },
  {
   "cell_type": "code",
   "execution_count": 84,
   "id": "4f49f073",
   "metadata": {},
   "outputs": [],
   "source": [
    "rafa = times[0]"
   ]
  },
  {
   "cell_type": "code",
   "execution_count": 101,
   "id": "f5405cab",
   "metadata": {},
   "outputs": [
    {
     "data": {
      "text/plain": [
       "'24 min'"
      ]
     },
     "execution_count": 101,
     "metadata": {},
     "output_type": "execute_result"
    }
   ],
   "source": [
    "rafa.get_text()"
   ]
  },
  {
   "cell_type": "code",
   "execution_count": null,
   "id": "b7adb148",
   "metadata": {},
   "outputs": [],
   "source": []
  },
  {
   "cell_type": "code",
   "execution_count": 78,
   "id": "9b8b1ea3",
   "metadata": {},
   "outputs": [
    {
     "data": {
      "text/plain": [
       "[None,\n",
       " None,\n",
       " None,\n",
       " None,\n",
       " None,\n",
       " None,\n",
       " None,\n",
       " None,\n",
       " None,\n",
       " None,\n",
       " None,\n",
       " None,\n",
       " None,\n",
       " None,\n",
       " None,\n",
       " None,\n",
       " None,\n",
       " None,\n",
       " None,\n",
       " None,\n",
       " None,\n",
       " None,\n",
       " None,\n",
       " None,\n",
       " None,\n",
       " None,\n",
       " None,\n",
       " None,\n",
       " None,\n",
       " None,\n",
       " None,\n",
       " None,\n",
       " None,\n",
       " None,\n",
       " None,\n",
       " None,\n",
       " None,\n",
       " None,\n",
       " None,\n",
       " None,\n",
       " None,\n",
       " None,\n",
       " None,\n",
       " None,\n",
       " None,\n",
       " None,\n",
       " None,\n",
       " None,\n",
       " None]"
      ]
     },
     "execution_count": 78,
     "metadata": {},
     "output_type": "execute_result"
    }
   ],
   "source": [
    "[a.attrs.get('runtime') for a in soup.select('p.text-muted.text-small span[class=runtime]')]\n"
   ]
  },
  {
   "cell_type": "code",
   "execution_count": 71,
   "id": "2787d733",
   "metadata": {},
   "outputs": [],
   "source": [
    "length = [a.attrs.get('runtime') for a in soup.select('p.text-muted.text-small span[class==runtime]')]"
   ]
  },
  {
   "cell_type": "code",
   "execution_count": 72,
   "id": "43637556",
   "metadata": {},
   "outputs": [
    {
     "data": {
      "text/plain": [
       "[None,\n",
       " None,\n",
       " None,\n",
       " None,\n",
       " None,\n",
       " None,\n",
       " None,\n",
       " None,\n",
       " None,\n",
       " None,\n",
       " None,\n",
       " None,\n",
       " None,\n",
       " None,\n",
       " None,\n",
       " None,\n",
       " None,\n",
       " None,\n",
       " None,\n",
       " None,\n",
       " None,\n",
       " None,\n",
       " None,\n",
       " None,\n",
       " None,\n",
       " None,\n",
       " None,\n",
       " None,\n",
       " None,\n",
       " None,\n",
       " None,\n",
       " None,\n",
       " None,\n",
       " None,\n",
       " None,\n",
       " None,\n",
       " None,\n",
       " None,\n",
       " None,\n",
       " None,\n",
       " None,\n",
       " None,\n",
       " None,\n",
       " None,\n",
       " None,\n",
       " None,\n",
       " None,\n",
       " None,\n",
       " None,\n",
       " None,\n",
       " None,\n",
       " None,\n",
       " None,\n",
       " None,\n",
       " None,\n",
       " None,\n",
       " None,\n",
       " None,\n",
       " None,\n",
       " None,\n",
       " None,\n",
       " None,\n",
       " None,\n",
       " None,\n",
       " None,\n",
       " None,\n",
       " None,\n",
       " None,\n",
       " None,\n",
       " None,\n",
       " None,\n",
       " None,\n",
       " None,\n",
       " None,\n",
       " None,\n",
       " None,\n",
       " None,\n",
       " None,\n",
       " None,\n",
       " None,\n",
       " None,\n",
       " None,\n",
       " None,\n",
       " None,\n",
       " None,\n",
       " None,\n",
       " None,\n",
       " None,\n",
       " None,\n",
       " None,\n",
       " None,\n",
       " None,\n",
       " None,\n",
       " None,\n",
       " None,\n",
       " None,\n",
       " None,\n",
       " None,\n",
       " None,\n",
       " None,\n",
       " None,\n",
       " None,\n",
       " None,\n",
       " None,\n",
       " None,\n",
       " None,\n",
       " None,\n",
       " None,\n",
       " None,\n",
       " None,\n",
       " None,\n",
       " None,\n",
       " None,\n",
       " None,\n",
       " None,\n",
       " None,\n",
       " None,\n",
       " None,\n",
       " None,\n",
       " None,\n",
       " None,\n",
       " None,\n",
       " None,\n",
       " None,\n",
       " None,\n",
       " None,\n",
       " None,\n",
       " None,\n",
       " None,\n",
       " None,\n",
       " None,\n",
       " None,\n",
       " None,\n",
       " None,\n",
       " None,\n",
       " None,\n",
       " None,\n",
       " None,\n",
       " None,\n",
       " None,\n",
       " None,\n",
       " None,\n",
       " None,\n",
       " None,\n",
       " None,\n",
       " None,\n",
       " None,\n",
       " None,\n",
       " None,\n",
       " None,\n",
       " None,\n",
       " None,\n",
       " None,\n",
       " None,\n",
       " None,\n",
       " None,\n",
       " None,\n",
       " None,\n",
       " None,\n",
       " None,\n",
       " None,\n",
       " None,\n",
       " None,\n",
       " None,\n",
       " None,\n",
       " None,\n",
       " None,\n",
       " None,\n",
       " None,\n",
       " None,\n",
       " None,\n",
       " None,\n",
       " None,\n",
       " None,\n",
       " None,\n",
       " None,\n",
       " None,\n",
       " None,\n",
       " None,\n",
       " None,\n",
       " None,\n",
       " None,\n",
       " None,\n",
       " None,\n",
       " None,\n",
       " None,\n",
       " None,\n",
       " None,\n",
       " None,\n",
       " None,\n",
       " None,\n",
       " None,\n",
       " None,\n",
       " None,\n",
       " None,\n",
       " None,\n",
       " None,\n",
       " None,\n",
       " None,\n",
       " None,\n",
       " None,\n",
       " None,\n",
       " None,\n",
       " None,\n",
       " None,\n",
       " None,\n",
       " None,\n",
       " None,\n",
       " None,\n",
       " None,\n",
       " None,\n",
       " None,\n",
       " None,\n",
       " None,\n",
       " None,\n",
       " None,\n",
       " None,\n",
       " None,\n",
       " None,\n",
       " None,\n",
       " None,\n",
       " None,\n",
       " None,\n",
       " None,\n",
       " None,\n",
       " None,\n",
       " None,\n",
       " None,\n",
       " None,\n",
       " None,\n",
       " None,\n",
       " None,\n",
       " None,\n",
       " None,\n",
       " None,\n",
       " None,\n",
       " None,\n",
       " None,\n",
       " None,\n",
       " None,\n",
       " None,\n",
       " None,\n",
       " None,\n",
       " None,\n",
       " None,\n",
       " None,\n",
       " None,\n",
       " None,\n",
       " None,\n",
       " None,\n",
       " None,\n",
       " None,\n",
       " None,\n",
       " None,\n",
       " None,\n",
       " None,\n",
       " None,\n",
       " None,\n",
       " None,\n",
       " None,\n",
       " None,\n",
       " None,\n",
       " None,\n",
       " None,\n",
       " None,\n",
       " None,\n",
       " None,\n",
       " None,\n",
       " None,\n",
       " None,\n",
       " None,\n",
       " None,\n",
       " None,\n",
       " None,\n",
       " None,\n",
       " None,\n",
       " None,\n",
       " None,\n",
       " None,\n",
       " None,\n",
       " None,\n",
       " None,\n",
       " None,\n",
       " None,\n",
       " None,\n",
       " None,\n",
       " None,\n",
       " None,\n",
       " None,\n",
       " None,\n",
       " None,\n",
       " None,\n",
       " None,\n",
       " None,\n",
       " None,\n",
       " None,\n",
       " None,\n",
       " None,\n",
       " None,\n",
       " None,\n",
       " None,\n",
       " None,\n",
       " None,\n",
       " None,\n",
       " None,\n",
       " None]"
      ]
     },
     "execution_count": 72,
     "metadata": {},
     "output_type": "execute_result"
    }
   ],
   "source": [
    "length"
   ]
  }
 ],
 "metadata": {
  "kernelspec": {
   "display_name": "Python 3 (ipykernel)",
   "language": "python",
   "name": "python3"
  },
  "language_info": {
   "codemirror_mode": {
    "name": "ipython",
    "version": 3
   },
   "file_extension": ".py",
   "mimetype": "text/x-python",
   "name": "python",
   "nbconvert_exporter": "python",
   "pygments_lexer": "ipython3",
   "version": "3.9.7"
  }
 },
 "nbformat": 4,
 "nbformat_minor": 5
}
